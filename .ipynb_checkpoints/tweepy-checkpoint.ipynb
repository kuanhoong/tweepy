{
 "cells": [
  {
   "cell_type": "code",
   "execution_count": 3,
   "metadata": {
    "collapsed": false
   },
   "outputs": [],
   "source": [
    "#tweepy\n",
    "import tweepy\n",
    "auth = tweepy.OAuthHandler('9vvwdmZHLfv3g5dh6GV79miZK',  'Z106DRB05ungt6OTy2Vxskk6VxKhXYaazmBmbHu5GyAMCAJKOv')\n",
    "auth.set_access_token('2790531-4jGsPZzUFOJ8rwDURALu4MSGsu9IZpy0zWtvdfYIbc', 'FE7mNVQOd8ktXBEqinwEwixkALBJAMvoXyar9UnVWymf3')\n",
    "\n",
    "api = tweepy.API(auth)\n"
   ]
  },
  {
   "cell_type": "code",
   "execution_count": 5,
   "metadata": {
    "collapsed": false
   },
   "outputs": [
    {
     "name": "stdout",
     "output_type": "stream",
     "text": [
      "I will dream of this $5,900 reclining work station for the rest of my days https://t.co/DJg4UGYX9V by @nickstatt https://t.co/00TmyBlqGl\n",
      "5 years old tweet (thanks,@tweetstoryapp) -  think I got this one right.  https://t.co/OZm0QsnIo5\n",
      "Formula Forensics 042: Reverse Text – A Formulaic Solution https://t.co/7Vc24UzgjE\n",
      "Samsung Galaxy S7 edge - Industry insiders have revealed that the Samsung will only have 5 million units of the... https://t.co/KgvV2kJyYe\n",
      "RT @MaddowBlog: Special live coverage of President Obama's farewell address Tuesday (Speech at 9pm ET, Special #Maddow show at 10) https://…\n",
      "10 real-life love stories that'll grab you by the heart: https://t.co/uYHBz7JEiT https://t.co/soOLFED9Xq\n",
      "[REPORT] Learn top #marketer tactics for securing accurate contact #data https://t.co/hbvyt3doac https://t.co/EfDPuMNykq\n",
      "RT @DJ44: Check out our Try This At Home: https://t.co/6JGI4fIVbj\n",
      "#yeswecan https://t.co/LLJDKdRdtd\n",
      "RT @DJ44: Be the TQ at the table:\n",
      "#yeswecan \n",
      "https://t.co/pu5ObewP0o https://t.co/qNVGiPy6C5\n",
      "RT @DJ44: Turns out it doesn't work for everything\n",
      "There was through process and here's where we came out\n",
      "https://t.co/Sr4AgFTrYF\n",
      "#yeswecan…\n",
      "Such a blunder sometimes it makes me wonder why I even bring the thunder\n",
      "https://t.co/6dd47dQOUr https://t.co/SxU98YpJxq\n",
      "Building Particle Filters and Particle MCMC in NIMBLE https://t.co/cyugkESa62 #rstats #DataScience\n",
      "I didn't get a chance to attend/participate in @DJ44's #YesWeCan chat today. Those of you that did, what were highlights?\n",
      "RT @DSP_fact: FWHM = full width at half maximum. Distance between points on either side of the mode where a function takes half its maximum…\n",
      "Will they blend? Cross-platform #ensemble model #rstats #KNIME #Python. #freedom in #datascience #lab. https://t.co/4yxsqQGizI #datablending\n",
      "RT @JennyBryan: Programming insight of the day 💡:\n",
      "Anything that can be NULL, NA, or of length zero eventually will be. #rstats\n",
      "RT @ImADataGuy: @pjrtweets @BecomingDataSci @AnalyticsVidhya very much so. Adaptability and communication are the two skills I use most (by…\n",
      "RT @pjrtweets: @ImADataGuy @BecomingDataSci @AnalyticsVidhya yes, problem solving and flexibility. skills in specific languages &amp; tools are…\n",
      "How to produce sounds in Python, R, Java, C, Perl, Javascript or even Linux? \n",
      "https://t.co/Z7HDu95erm https://t.co/VTYWEPesLm\n",
      "Telstra calls on #SAS to keep customers engaged https://t.co/c72QEa9Fk4\n"
     ]
    }
   ],
   "source": [
    "public_tweets = api.home_timeline()\n",
    "for tweet in public_tweets:\n",
    "    print (tweet.text)"
   ]
  },
  {
   "cell_type": "code",
   "execution_count": 8,
   "metadata": {
    "collapsed": false
   },
   "outputs": [
    {
     "name": "stdout",
     "output_type": "stream",
     "text": [
      "kuanhoong\n",
      "341\n",
      "BokehPlots\n",
      "SymPy\n",
      "pluskid\n",
      "johnseesuyang\n",
      "ezraklein\n",
      "pakremp\n",
      "mikevizneros\n",
      "DrewLinzer\n",
      "SamWangPhD\n",
      "_R_Foundation\n",
      "ratzesberger\n",
      "tjek88\n",
      "goodreads\n",
      "MagicCyberjaya\n",
      "mymdec\n",
      "AWSCloudSEAsia\n",
      "YasminMDeC\n",
      "LutzFinger\n",
      "rusergroupmy\n",
      "jameskobielus\n"
     ]
    }
   ],
   "source": [
    "# Get the User object for twitter...\n",
    "user = api.get_user('kuanhoong')\n",
    "print (user.screen_name)\n",
    "print (user.followers_count)\n",
    "for friend in user.friends():\n",
    "   print (friend.screen_name)"
   ]
  },
  {
   "cell_type": "code",
   "execution_count": 11,
   "metadata": {
    "collapsed": false
   },
   "outputs": [
    {
     "ename": "NameError",
     "evalue": "name 'process_friend' is not defined",
     "output_type": "error",
     "traceback": [
      "\u001b[1;31m---------------------------------------------------------------------------\u001b[0m",
      "\u001b[1;31mNameError\u001b[0m                                 Traceback (most recent call last)",
      "\u001b[1;32m<ipython-input-11-d06f80cad834>\u001b[0m in \u001b[0;36m<module>\u001b[1;34m()\u001b[0m\n\u001b[0;32m      3\u001b[0m \u001b[1;32mfor\u001b[0m \u001b[0mfriend\u001b[0m \u001b[1;32min\u001b[0m \u001b[0mtweepy\u001b[0m\u001b[1;33m.\u001b[0m\u001b[0mCursor\u001b[0m\u001b[1;33m(\u001b[0m\u001b[0mapi\u001b[0m\u001b[1;33m.\u001b[0m\u001b[0mfriends\u001b[0m\u001b[1;33m)\u001b[0m\u001b[1;33m.\u001b[0m\u001b[0mitems\u001b[0m\u001b[1;33m(\u001b[0m\u001b[1;33m)\u001b[0m\u001b[1;33m:\u001b[0m\u001b[1;33m\u001b[0m\u001b[0m\n\u001b[0;32m      4\u001b[0m     \u001b[1;31m# Process the friend here\u001b[0m\u001b[1;33m\u001b[0m\u001b[1;33m\u001b[0m\u001b[0m\n\u001b[1;32m----> 5\u001b[1;33m     \u001b[0mprocess_friend\u001b[0m\u001b[1;33m(\u001b[0m\u001b[0mfriend\u001b[0m\u001b[1;33m)\u001b[0m\u001b[1;33m\u001b[0m\u001b[0m\n\u001b[0m\u001b[0;32m      6\u001b[0m \u001b[1;33m\u001b[0m\u001b[0m\n\u001b[0;32m      7\u001b[0m \u001b[1;31m# Iterate through the first 200 statuses in the friends timeline\u001b[0m\u001b[1;33m\u001b[0m\u001b[1;33m\u001b[0m\u001b[0m\n",
      "\u001b[1;31mNameError\u001b[0m: name 'process_friend' is not defined"
     ]
    }
   ],
   "source": [
    "api.user_timeline(id=\"kuanhoong\")\n",
    "# Iterate through all of the authenticated user's friends\n",
    "for friend in tweepy.Cursor(api.friends).items():\n",
    "    # Process the friend here\n",
    "    process_friend(friend)\n",
    "\n",
    "# Iterate through the first 200 statuses in the friends timeline\n",
    "for status in tweepy.Cursor(api.friends_timeline).items(200):\n",
    "    # Process the status here\n",
    "    process_status(status)"
   ]
  }
 ],
 "metadata": {
  "kernelspec": {
   "display_name": "Python 3",
   "language": "python",
   "name": "python3"
  },
  "language_info": {
   "codemirror_mode": {
    "name": "ipython",
    "version": 3
   },
   "file_extension": ".py",
   "mimetype": "text/x-python",
   "name": "python",
   "nbconvert_exporter": "python",
   "pygments_lexer": "ipython3",
   "version": "3.5.2"
  }
 },
 "nbformat": 4,
 "nbformat_minor": 0
}
