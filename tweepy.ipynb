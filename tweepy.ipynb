{
 "cells": [
  {
   "cell_type": "code",
   "execution_count": null,
   "metadata": {
    "collapsed": false
   },
   "outputs": [],
   "source": [
    "#tweepy\n",
    "import tweepy\n",
    "\n",
    "\n",
    "api = tweepy.API(auth)\n"
   ]
  },
  {
   "cell_type": "code",
   "execution_count": null,
   "metadata": {
    "collapsed": false
   },
   "outputs": [],
   "source": [
    "public_tweets = api.home_timeline()\n",
    "for tweet in public_tweets:\n",
    "    print (tweet.text)"
   ]
  },
  {
   "cell_type": "code",
   "execution_count": null,
   "metadata": {
    "collapsed": false
   },
   "outputs": [],
   "source": [
    "# Get the User object for twitter...\n",
    "user = api.get_user('kuanhoong')\n",
    "print (user.screen_name)\n",
    "print (user.followers_count)\n",
    "for friend in user.friends():\n",
    "   print (friend.screen_name)"
   ]
  },
  {
   "cell_type": "code",
   "execution_count": null,
   "metadata": {
    "collapsed": false
   },
   "outputs": [],
   "source": [
    "api.user_timeline(id=\"kuanhoong\")\n",
    "# Iterate through all of the authenticated user's friends\n",
    "for friend in tweepy.Cursor(api.friends).items():\n",
    "    # Process the friend here\n",
    "    process_friend(friend)\n",
    "\n",
    "# Iterate through the first 200 statuses in the friends timeline\n",
    "for status in tweepy.Cursor(api.friends_timeline).items(200):\n",
    "    # Process the status here\n",
    "    process_status(status)"
   ]
  }
 ],
 "metadata": {
  "kernelspec": {
   "display_name": "Python 3",
   "language": "python",
   "name": "python3"
  },
  "language_info": {
   "codemirror_mode": {
    "name": "ipython",
    "version": 3
   },
   "file_extension": ".py",
   "mimetype": "text/x-python",
   "name": "python",
   "nbconvert_exporter": "python",
   "pygments_lexer": "ipython3",
   "version": "3.5.2"
  }
 },
 "nbformat": 4,
 "nbformat_minor": 0
}
